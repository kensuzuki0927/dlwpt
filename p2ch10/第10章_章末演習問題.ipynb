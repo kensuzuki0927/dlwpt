{
 "cells": [
  {
   "cell_type": "markdown",
   "metadata": {
    "id": "iX8MIpwJlg73"
   },
   "source": [
    "### 第10章の章末演習問題\n",
    "※ ここではGoogle Colaraboratoryでの実行を想定しています。\n",
    "\n",
    "※ Google Colaraboratoryでbashコマンドを実行するには、命令の前に!をつけます。"
   ]
  },
  {
   "cell_type": "markdown",
   "metadata": {
    "id": "xNzwpA6LqN3Z"
   },
   "source": [
    "## [0] 必要な準備"
   ]
  },
  {
   "cell_type": "code",
   "execution_count": null,
   "metadata": {
    "id": "h8dpH_PcmBmk"
   },
   "outputs": [],
   "source": [
    "# 必須ライブラリのインストール\n",
    "!pip install SimpleITK\n",
    "!pip install diskcache\n",
    "!pip install cassandra-driver\n",
    "\n",
    "# 関連スクリプトの取得\n",
    "!mkdir util\n",
    "!wget https://raw.githubusercontent.com/deep-learning-with-pytorch/dlwpt-code/master/p2ch10/dsets.py\n",
    "!wget -P ./util https://raw.githubusercontent.com/deep-learning-with-pytorch/dlwpt-code/master/util/disk.py\n",
    "!wget -P ./util https://raw.githubusercontent.com/deep-learning-with-pytorch/dlwpt-code/master/util/logconf.py\n",
    "!wget -P ./util https://raw.githubusercontent.com/deep-learning-with-pytorch/dlwpt-code/master/util/util.py\n",
    "\n",
    "# 原著のGitHub上のコードではエラーになるため、ライブラリのインポート部分を微修正\n",
    "# 参考Issue：https://github.com/deep-learning-with-pytorch/dlwpt-code/issues/27\n",
    "!sed -i -e '3,4d' ./util/disk.py\n",
    "!sed -i '1ifrom diskcache.core import MODE_BINARY' ./util/disk.py\n",
    "!sed -i '1ifrom io import BytesIO' ./util/disk.py\n",
    "!sed -i '1ifrom diskcache.core import io' ./util/disk.py\n",
    "!sed -i '1ifrom diskcache import FanoutCache, Disk,core' ./util/disk.py\n",
    "!sed -i '1ifrom cassandra.cqltypes import BytesType' ./util/disk.py\n",
    "!head ./util/disk.py"
   ]
  },
  {
   "cell_type": "code",
   "execution_count": null,
   "metadata": {
    "id": "R9W-qfTqzsNJ"
   },
   "outputs": [],
   "source": [
    "# データのダウンロード\n",
    "!wget -P ./data/part2/luna https://raw.githubusercontent.com/deep-learning-with-pytorch/dlwpt-code/master/data/part2/luna/annotations.csv\n",
    "!wget -P ./data/part2/luna https://raw.githubusercontent.com/deep-learning-with-pytorch/dlwpt-code/master/data/part2/luna/candidates.csv\n"
   ]
  },
  {
   "cell_type": "code",
   "execution_count": null,
   "metadata": {
    "id": "VjXAignmz1wS"
   },
   "outputs": [],
   "source": [
    "# データのダウンロード（15分ほどかかります）と解凍（5分ほどかかります）\n",
    "# ※Google Colaboratoryではときおり、ダウンロードが途中でリトライになる可能性があります\n",
    "\n",
    "!wget -P ./data-unversioned/part2/luna https://zenodo.org/record/3723295/files/subset0.zip\n",
    "%cd /content/data-unversioned/part2/luna\n",
    "!jar xvf subset0.zip\n",
    "%cd /content\n"
   ]
  },
  {
   "cell_type": "code",
   "execution_count": 1,
   "metadata": {},
   "outputs": [
    {
     "name": "stdout",
     "output_type": "stream",
     "text": [
      "Archive:  ./data-unversioned/part2/luna/subset0.zip\n",
      "warning [./data-unversioned/part2/luna/subset0.zip]:  2516934707 extra bytes at beginning or within zipfile\n",
      "  (attempting to process anyway)\n",
      "error [./data-unversioned/part2/luna/subset0.zip]:  start of central directory not found;\n",
      "  zipfile corrupt.\n",
      "  (please check that you have transferred or created the zipfile in the\n",
      "  appropriate BINARY mode and that you have compiled UnZip properly)\n"
     ]
    }
   ],
   "source": [
    "!jar xvf ./data-unversioned/part2/luna/subset0.zip -d ./data-unversioned/part2/luna/"
   ]
  },
  {
   "cell_type": "markdown",
   "metadata": {
    "id": "LWaAAlj8lg8D"
   },
   "source": [
    "## [1] LunaDatasetインスタンスを反復するプログラムを実装し、実行にどの程度時間が掛かるか計ってください。なお、時間の都合上、最初の N=1000 個のサンプルを反復するように制限するオプションを付す判断が合理的かもしれません。"
   ]
  },
  {
   "cell_type": "code",
   "execution_count": null,
   "metadata": {
    "id": "Coxf065FAzQ3"
   },
   "outputs": [],
   "source": [
    "from dsets import LunaDataset\n",
    "dataset = LunaDataset()"
   ]
  },
  {
   "cell_type": "markdown",
   "metadata": {
    "id": "aqoN0IkRlg8F"
   },
   "source": [
    "### （a）初回の実行でどの程度時間が掛かりましたか。"
   ]
  },
  {
   "cell_type": "code",
   "execution_count": null,
   "metadata": {
    "id": "3zMBKWS3rPhS"
   },
   "outputs": [],
   "source": [
    "# 回答（まずは1000個で試してみましょう）"
   ]
  },
  {
   "cell_type": "markdown",
   "metadata": {
    "id": "8lp3mn3ilg8N"
   },
   "source": [
    "### （b）2回目の実行でどの程度時間が掛かりましたか。"
   ]
  },
  {
   "cell_type": "code",
   "execution_count": null,
   "metadata": {
    "id": "_i138YuJrTUD"
   },
   "outputs": [],
   "source": [
    "# 回答（まずは1000個で試してみましょう）"
   ]
  },
  {
   "cell_type": "markdown",
   "metadata": {
    "id": "K3gA7pEglg8U"
   },
   "source": [
    "### （c）キャッシュをクリアした場合、実行時間にどのような影響がありますか？"
   ]
  },
  {
   "cell_type": "code",
   "execution_count": null,
   "metadata": {
    "id": "MLhDpFE4rWXu"
   },
   "outputs": [],
   "source": [
    "# 回答（まずは1000個で試してみましょう）"
   ]
  },
  {
   "cell_type": "markdown",
   "metadata": {
    "id": "U_LA7XkHlg8b"
   },
   "source": [
    "### （d） 最後のN=1000 個のサンプルを使用した場合、最初、または2回目の実行時間にどのような影響がありますか。 "
   ]
  },
  {
   "cell_type": "code",
   "execution_count": null,
   "metadata": {
    "id": "S1wNBVInrXtY"
   },
   "outputs": [],
   "source": [
    "# 回答"
   ]
  },
  {
   "cell_type": "markdown",
   "metadata": {
    "id": "qt6UL3Jblg8q"
   },
   "source": [
    "## [2] __init__内でサンプルの配列をランダムにするようにLunaDatasetの実装を変更してください。そして、キャッシュをクリアし、変更したバージョンを実行してください。これにより、最初、及び2回目の実行時間にどのような影響がありますか。"
   ]
  },
  {
   "cell_type": "code",
   "execution_count": null,
   "metadata": {
    "id": "hFD3-g7VrZrA"
   },
   "outputs": [],
   "source": [
    "# 上部の「ランタイム」> 「ランタイムを出荷時設定にリセット」を行うことでキャッシュをクリアしてから実行　※[1]の内容は実行しないこと\n",
    "# 回答（まずは1000個で試してみましょう）"
   ]
  },
  {
   "cell_type": "markdown",
   "metadata": {
    "id": "jdyQ09U6lg80"
   },
   "source": [
    "## [3] ランダム化を戻し、getCtの@functools.lru_cache(1, typed=True)デコレーターをコメントアウトしてください。キャッシュをクリアし、変更したバージョンを実行してください。実行時間はどのように変わりますか？ "
   ]
  },
  {
   "cell_type": "code",
   "execution_count": null,
   "metadata": {
    "id": "PqSFkCGKrbJU"
   },
   "outputs": [],
   "source": [
    "# 上部の「ランタイム」> 「ランタイムを出荷時設定にリセット」を行うことでキャッシュをクリアしてから実行　※[1][2]の内容は実行しないこと\n",
    "# 回答（まずは1000個で試してみましょう）"
   ]
  }
 ],
 "metadata": {
  "colab": {
   "collapsed_sections": [],
   "name": "第10章_章末演習問題.ipynb",
   "provenance": []
  },
  "kernelspec": {
   "display_name": "Python 3 (ipykernel)",
   "language": "python",
   "name": "python3"
  },
  "language_info": {
   "codemirror_mode": {
    "name": "ipython",
    "version": 3
   },
   "file_extension": ".py",
   "mimetype": "text/x-python",
   "name": "python",
   "nbconvert_exporter": "python",
   "pygments_lexer": "ipython3",
   "version": "3.9.7"
  }
 },
 "nbformat": 4,
 "nbformat_minor": 4
}
